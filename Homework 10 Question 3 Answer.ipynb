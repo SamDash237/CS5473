{
 "cells": [
  {
   "cell_type": "markdown",
   "metadata": {},
   "source": [
    "# Assignment 10 Question 3\n",
    "\n",
    "## Sam Dash"
   ]
  },
  {
   "cell_type": "markdown",
   "metadata": {},
   "source": [
    "3. [50] Write a Python program (Jupyter notebook) that uses the data mining algorithms provided in SciKit-Learn to build knowledge models using the given hmwk10.csv.\n",
    "\n",
    "Briefly report on your observations and experiences."
   ]
  },
  {
   "cell_type": "code",
   "execution_count": 1,
   "metadata": {},
   "outputs": [],
   "source": [
    "import pandas as pd\n",
    "import numpy as np\n",
    "from sklearn import svm\n",
    "from sklearn.neighbors import KNeighborsClassifier\n",
    "from sklearn.neural_network import MLPClassifier"
   ]
  },
  {
   "cell_type": "code",
   "execution_count": 3,
   "metadata": {},
   "outputs": [
    {
     "data": {
      "text/html": [
       "<div>\n",
       "<style scoped>\n",
       "    .dataframe tbody tr th:only-of-type {\n",
       "        vertical-align: middle;\n",
       "    }\n",
       "\n",
       "    .dataframe tbody tr th {\n",
       "        vertical-align: top;\n",
       "    }\n",
       "\n",
       "    .dataframe thead th {\n",
       "        text-align: right;\n",
       "    }\n",
       "</style>\n",
       "<table border=\"1\" class=\"dataframe\">\n",
       "  <thead>\n",
       "    <tr style=\"text-align: right;\">\n",
       "      <th></th>\n",
       "      <th>A</th>\n",
       "      <th>B</th>\n",
       "      <th>C</th>\n",
       "      <th>D</th>\n",
       "      <th>E</th>\n",
       "      <th>F</th>\n",
       "      <th>G</th>\n",
       "      <th>H</th>\n",
       "    </tr>\n",
       "  </thead>\n",
       "  <tbody>\n",
       "    <tr>\n",
       "      <th>0</th>\n",
       "      <td>-0.851789</td>\n",
       "      <td>-1.205610</td>\n",
       "      <td>-0.474291</td>\n",
       "      <td>0.313508</td>\n",
       "      <td>-0.452754</td>\n",
       "      <td>-0.381246</td>\n",
       "      <td>-1.414164</td>\n",
       "      <td>2</td>\n",
       "    </tr>\n",
       "    <tr>\n",
       "      <th>1</th>\n",
       "      <td>-2.243104</td>\n",
       "      <td>1.252614</td>\n",
       "      <td>0.118889</td>\n",
       "      <td>-0.569868</td>\n",
       "      <td>-1.536101</td>\n",
       "      <td>1.536289</td>\n",
       "      <td>-0.473938</td>\n",
       "      <td>2</td>\n",
       "    </tr>\n",
       "    <tr>\n",
       "      <th>2</th>\n",
       "      <td>1.096491</td>\n",
       "      <td>-0.736308</td>\n",
       "      <td>0.070911</td>\n",
       "      <td>-1.822606</td>\n",
       "      <td>1.662994</td>\n",
       "      <td>0.319114</td>\n",
       "      <td>2.321419</td>\n",
       "      <td>0</td>\n",
       "    </tr>\n",
       "    <tr>\n",
       "      <th>3</th>\n",
       "      <td>0.927066</td>\n",
       "      <td>2.737201</td>\n",
       "      <td>2.115261</td>\n",
       "      <td>1.826195</td>\n",
       "      <td>0.140160</td>\n",
       "      <td>0.758732</td>\n",
       "      <td>1.104514</td>\n",
       "      <td>2</td>\n",
       "    </tr>\n",
       "    <tr>\n",
       "      <th>4</th>\n",
       "      <td>-1.251867</td>\n",
       "      <td>0.147549</td>\n",
       "      <td>1.398634</td>\n",
       "      <td>0.418399</td>\n",
       "      <td>0.377142</td>\n",
       "      <td>0.911071</td>\n",
       "      <td>0.139122</td>\n",
       "      <td>1</td>\n",
       "    </tr>\n",
       "  </tbody>\n",
       "</table>\n",
       "</div>"
      ],
      "text/plain": [
       "          A         B         C         D         E         F         G  H\n",
       "0 -0.851789 -1.205610 -0.474291  0.313508 -0.452754 -0.381246 -1.414164  2\n",
       "1 -2.243104  1.252614  0.118889 -0.569868 -1.536101  1.536289 -0.473938  2\n",
       "2  1.096491 -0.736308  0.070911 -1.822606  1.662994  0.319114  2.321419  0\n",
       "3  0.927066  2.737201  2.115261  1.826195  0.140160  0.758732  1.104514  2\n",
       "4 -1.251867  0.147549  1.398634  0.418399  0.377142  0.911071  0.139122  1"
      ]
     },
     "execution_count": 3,
     "metadata": {},
     "output_type": "execute_result"
    }
   ],
   "source": [
    "df = pd.read_csv(\"hwk10.csv\")\n",
    "df.head()"
   ]
  },
  {
   "cell_type": "markdown",
   "metadata": {},
   "source": [
    "(a) [5] Create a set of unseen data (5 to 20 tuples)."
   ]
  },
  {
   "cell_type": "code",
   "execution_count": 5,
   "metadata": {},
   "outputs": [
    {
     "data": {
      "text/plain": [
       "array([1, 0, 2, 0, 0, 2, 1, 0, 0, 2], dtype=int64)"
      ]
     },
     "execution_count": 5,
     "metadata": {},
     "output_type": "execute_result"
    }
   ],
   "source": [
    "u = df.sample(10)\n",
    "uX = u.drop(columns = ['H'])\n",
    "uy = u['H']\n",
    "\n",
    "X = df.drop(index=u.index.values,columns = ['H'])\n",
    "y = df.drop(index=u.index.values)['H']\n",
    "\n",
    "uy.values"
   ]
  },
  {
   "cell_type": "markdown",
   "metadata": {},
   "source": [
    "(b) [15] Build a multiple level perceptron classifier and use it to classify several unseen\n",
    "data. Investigate the impact of number and size of hidden layers and the different\n",
    "activation functions."
   ]
  },
  {
   "cell_type": "code",
   "execution_count": 52,
   "metadata": {},
   "outputs": [
    {
     "name": "stderr",
     "output_type": "stream",
     "text": [
      "C:\\Users\\samda\\Anaconda3\\lib\\site-packages\\sklearn\\neural_network\\multilayer_perceptron.py:562: ConvergenceWarning: Stochastic Optimizer: Maximum iterations (200) reached and the optimization hasn't converged yet.\n",
      "  % self.max_iter, ConvergenceWarning)\n"
     ]
    },
    {
     "data": {
      "text/plain": [
       "array([1, 0, 1, 0, 0, 1, 1, 0, 0, 1], dtype=int64)"
      ]
     },
     "execution_count": 52,
     "metadata": {},
     "output_type": "execute_result"
    }
   ],
   "source": [
    "multi_level_perceptron = MLPClassifier(hidden_layer_sizes = (50, 140, 70, 7, 1), activation = 'relu')\n",
    "multi_level_perceptron.fit(X,y)\n",
    "multi_level_perceptron.predict(uX)"
   ]
  },
  {
   "cell_type": "markdown",
   "metadata": {},
   "source": [
    "relu seems to be the most accurate activation."
   ]
  },
  {
   "cell_type": "markdown",
   "metadata": {},
   "source": [
    "(c) [15] Build a support vector classifier and use it to classify the same set of unseen data.\n",
    "Investigate the effect of different types of kernel functions and their parameters"
   ]
  },
  {
   "cell_type": "code",
   "execution_count": 46,
   "metadata": {},
   "outputs": [
    {
     "data": {
      "text/plain": [
       "array([1, 0, 2, 0, 0, 1, 1, 0, 0, 2], dtype=int64)"
      ]
     },
     "execution_count": 46,
     "metadata": {},
     "output_type": "execute_result"
    }
   ],
   "source": [
    "support_vector = svm.SVC(kernel='linear', degree = 4, gamma = 4/7)\n",
    "support_vector.fit(X,y)\n",
    "support_vector.predict(uX)"
   ]
  },
  {
   "cell_type": "markdown",
   "metadata": {},
   "source": [
    "Of the various kernels, linear is most accurate."
   ]
  },
  {
   "cell_type": "markdown",
   "metadata": {},
   "source": [
    "(d) [15] Build a K neighbors classifier and use it to classify the same set of unseen data.\n",
    "Investigate the impact of the number of neighbors and the metrics."
   ]
  },
  {
   "cell_type": "code",
   "execution_count": 28,
   "metadata": {},
   "outputs": [
    {
     "data": {
      "text/plain": [
       "array([1, 0, 1, 0, 0, 1, 1, 0, 0, 2], dtype=int64)"
      ]
     },
     "execution_count": 28,
     "metadata": {},
     "output_type": "execute_result"
    }
   ],
   "source": [
    "k_neighbors = KNeighborsClassifier(n_neighbors = 2, weights = 'uniform')\n",
    "k_neighbors.fit(X,y)\n",
    "k_neighbors.predict(uX)"
   ]
  },
  {
   "cell_type": "markdown",
   "metadata": {},
   "source": [
    "Accuracy does not seem to improve past n_neighbors = 2"
   ]
  }
 ],
 "metadata": {
  "kernelspec": {
   "display_name": "Python 3",
   "language": "python",
   "name": "python3"
  },
  "language_info": {
   "codemirror_mode": {
    "name": "ipython",
    "version": 3
   },
   "file_extension": ".py",
   "mimetype": "text/x-python",
   "name": "python",
   "nbconvert_exporter": "python",
   "pygments_lexer": "ipython3",
   "version": "3.7.1"
  }
 },
 "nbformat": 4,
 "nbformat_minor": 2
}
