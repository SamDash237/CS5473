{
 "cells": [
  {
   "cell_type": "markdown",
   "metadata": {},
   "source": [
    "# COMPUTER SCIENCE 4373/5473\n",
    "# Assignment #1\n",
    "\n",
    "## By Sam Dash"
   ]
  },
  {
   "cell_type": "markdown",
   "metadata": {},
   "source": [
    "Instruction: In this assignment, you will work individually to develop a program for the preprocessing data. You will use Python in Anaconda distribution to write a Jupyter notebook. Your\n",
    "program will read data from the provided CSV file into a DataFrame. The data file has 6 columns:\n",
    "A, B, C, D, E, and F, where A and B are categorical and the rest are numeric. Your program\n",
    "will than solve the following problems and write output to a text file. All values in the output\n",
    "should be formatted to have up to four (4) digits after the decimal point. Unless explicitly stated\n",
    "otherwise, you should use packages such as pandas and numpy that come installed with Anaconda.\n",
    "Submit your solution via BlackBoard Learn in a zipped file yourName-hwk01.zip, which contains\n",
    "the notebook, additional library if any, and the input/output files."
   ]
  },
  {
   "cell_type": "markdown",
   "metadata": {},
   "source": [
    "1. [40] (Data Statistics) Write basic Python functions to obtain the following statistics and apply\n",
    "these functions to columns C, D, E, and F in the table."
   ]
  },
  {
   "cell_type": "code",
   "execution_count": 4,
   "metadata": {},
   "outputs": [],
   "source": [
    "import scipy as sp\n",
    "import pandas as pd\n",
    "import numpy as np"
   ]
  },
  {
   "cell_type": "markdown",
   "metadata": {},
   "source": [
    "Read the CSV file"
   ]
  },
  {
   "cell_type": "code",
   "execution_count": 5,
   "metadata": {},
   "outputs": [],
   "source": [
    "df = pd.read_csv(r'hwk01.csv')"
   ]
  },
  {
   "cell_type": "markdown",
   "metadata": {},
   "source": [
    "1.a.) The mean and the midrange."
   ]
  },
  {
   "cell_type": "code",
   "execution_count": 16,
   "metadata": {},
   "outputs": [
    {
     "name": "stdout",
     "output_type": "stream",
     "text": [
      "The mean of C is 5184.6630\n",
      "The mean of D is -0.0348\n",
      "The mean of E is 15.4567\n",
      "The mean of F is 5.9200\n",
      "The midrange of C is 5037.0000\n",
      "The midrange of D is -0.0138\n",
      "The midrange of E is 19.1057\n",
      "The midrange of F is 6.0000\n"
     ]
    }
   ],
   "source": [
    "meanC = df['C'].mean() # calculates the average of all values under column C\n",
    "meanD = df['D'].mean() # calculates the average of all values under column D\n",
    "meanE = df['E'].mean() # calculates the average of all values under column E\n",
    "meanF = df['F'].mean() # calculates the average of all values under column F\n",
    "\n",
    "print(f'The mean of C is {meanC:.4f}')\n",
    "print(f'The mean of D is {meanD:.4f}')\n",
    "print(f'The mean of E is {meanE:.4f}')\n",
    "print(f'The mean of F is {meanF:.4f}')\n",
    "\n",
    "maxC = df['C'].max() # calculates the max of all values under column C\n",
    "minC = df['C'].min() # calculates the min of all values under column C\n",
    "midrangeC = (maxC + minC)/2 # calculates the midrange of column C\n",
    "maxD = df['D'].max() # calculates the max of all values under column D\n",
    "minD = df['D'].min() # calculates the min of all values under column D\n",
    "midrangeD = (maxD + minD)/2 # calculates the midrange of column D\n",
    "maxE = df['E'].max() # calculates the max of all values under column E\n",
    "minE = df['E'].min() # calculates the min of all values under column E\n",
    "midrangeE = (maxE + minE)/2 # calculates the midrange of column E\n",
    "maxF = df['F'].max() # calculates the max of all values under column F\n",
    "minF = df['F'].min() # calculates the min of all values under column F\n",
    "midrangeF = (maxF + minF)/2 # calculates the midrange of column F\n",
    "\n",
    "print(f'The midrange of C is {midrangeC:.4f}')\n",
    "print(f'The midrange of D is {midrangeD:.4f}')\n",
    "print(f'The midrange of E is {midrangeE:.4f}')\n",
    "print(f'The midrange of F is {midrangeF:.4f}')"
   ]
  },
  {
   "cell_type": "markdown",
   "metadata": {},
   "source": [
    "1.b.) The mode and the modality"
   ]
  },
  {
   "cell_type": "code",
   "execution_count": 17,
   "metadata": {},
   "outputs": [
    {
     "name": "stdout",
     "output_type": "stream",
     "text": [
      "The mode of C is 0     589\n",
      "1    6930\n",
      "dtype: int64\n",
      "The mode of D is 0     -3.298415\n",
      "1     -2.944310\n",
      "2     -2.812992\n",
      "3     -2.779496\n",
      "4     -2.774320\n",
      "5     -2.488239\n",
      "6     -2.457288\n",
      "7     -2.326335\n",
      "8     -2.296707\n",
      "9     -2.161938\n",
      "10    -2.130348\n",
      "11    -2.116680\n",
      "12    -2.094006\n",
      "13    -2.088331\n",
      "14    -2.028268\n",
      "15    -2.023269\n",
      "16    -2.020193\n",
      "17    -1.990047\n",
      "18    -1.989610\n",
      "19    -1.988863\n",
      "20    -1.968025\n",
      "21    -1.959593\n",
      "22    -1.947981\n",
      "23    -1.940723\n",
      "24    -1.915144\n",
      "25    -1.914409\n",
      "26    -1.912144\n",
      "27    -1.902250\n",
      "28    -1.897452\n",
      "29    -1.895985\n",
      "         ...   \n",
      "970    1.861109\n",
      "971    1.862314\n",
      "972    1.866591\n",
      "973    1.874891\n",
      "974    1.958695\n",
      "975    1.967502\n",
      "976    2.005852\n",
      "977    2.023026\n",
      "978    2.044771\n",
      "979    2.063295\n",
      "980    2.072766\n",
      "981    2.073174\n",
      "982    2.093137\n",
      "983    2.109846\n",
      "984    2.112653\n",
      "985    2.142821\n",
      "986    2.160794\n",
      "987    2.177769\n",
      "988    2.188730\n",
      "989    2.306154\n",
      "990    2.307300\n",
      "991    2.354489\n",
      "992    2.391757\n",
      "993    2.397588\n",
      "994    2.492788\n",
      "995    2.613627\n",
      "996    2.805919\n",
      "997    3.093815\n",
      "998    3.228720\n",
      "999    3.270827\n",
      "Length: 1000, dtype: float64\n",
      "The mode of E is 0     -16.495096\n",
      "1     -16.414142\n",
      "2     -12.794588\n",
      "3     -11.365322\n",
      "4     -10.614808\n",
      "5     -10.059836\n",
      "6      -9.501873\n",
      "7      -9.024610\n",
      "8      -9.003861\n",
      "9      -8.371637\n",
      "10     -8.075874\n",
      "11     -7.668502\n",
      "12     -7.606668\n",
      "13     -6.803941\n",
      "14     -6.483150\n",
      "15     -6.255527\n",
      "16     -5.867697\n",
      "17     -5.106775\n",
      "18     -4.928823\n",
      "19     -4.866804\n",
      "20     -4.656511\n",
      "21     -4.423637\n",
      "22     -4.403028\n",
      "23     -4.215587\n",
      "24     -4.040044\n",
      "25     -3.918029\n",
      "26     -3.721833\n",
      "27     -3.693913\n",
      "28     -3.575958\n",
      "29     -3.521524\n",
      "         ...    \n",
      "970    33.846917\n",
      "971    33.898157\n",
      "972    34.271816\n",
      "973    34.309738\n",
      "974    34.499006\n",
      "975    34.898904\n",
      "976    34.947652\n",
      "977    35.341271\n",
      "978    35.607756\n",
      "979    35.666004\n",
      "980    35.725632\n",
      "981    35.790114\n",
      "982    35.851881\n",
      "983    35.920555\n",
      "984    36.563622\n",
      "985    36.601273\n",
      "986    36.626653\n",
      "987    37.763823\n",
      "988    37.927029\n",
      "989    38.317026\n",
      "990    38.656120\n",
      "991    39.035390\n",
      "992    39.276379\n",
      "993    39.957087\n",
      "994    40.445753\n",
      "995    40.550804\n",
      "996    43.249739\n",
      "997    43.433919\n",
      "998    44.308779\n",
      "999    54.706505\n",
      "Length: 1000, dtype: float64\n",
      "The mode of F is 0    6\n",
      "dtype: int64\n"
     ]
    }
   ],
   "source": [
    "modeC = df.C.mode() # calculates the mode of all values under column C\n",
    "modeD = df.D.mode() # calculates the mode of all values under column D\n",
    "modeE = df.E.mode() # calculates the mode of all values under column E\n",
    "modeF = df.F.mode() # calculates the mode of all values under column F\n",
    "\n",
    "print(\"The mode of C is\", modeC)\n",
    "print(\"The mode of D is\", modeD)\n",
    "print(\"The mode of E is\", modeE)\n",
    "print(\"The mode of F is\", modeF)"
   ]
  },
  {
   "cell_type": "markdown",
   "metadata": {},
   "source": [
    "1.c.) The five-number summary. Which consists of the minimum value, the first quartile, the median, the third quartile, and the maximum value."
   ]
  },
  {
   "cell_type": "code",
   "execution_count": 18,
   "metadata": {},
   "outputs": [
    {
     "name": "stdout",
     "output_type": "stream",
     "text": [
      "The minimum value of C is 78.0000\n",
      "The minimum value of D is -3.2984\n",
      "The minimum value of E is -16.4951\n",
      "The minimum value of F is 1.0000\n",
      "The first quartile of C is 0.25    2795.5\n",
      "Name: C, dtype: float64\n",
      "The first quartile of D is 0.25   -0.718631\n",
      "Name: D, dtype: float64\n",
      "The first quartile of E is 0.25    8.564863\n",
      "Name: E, dtype: float64\n",
      "The first quartile of F is 0.25    3.0\n",
      "Name: F, dtype: float64\n",
      "The median of C is 5180.0000\n",
      "The median of D is -0.0454\n",
      "The median of E is 15.4411\n",
      "The median of F is 6.0000\n",
      "The third quartile of C is 0.75    7557.25\n",
      "Name: C, dtype: float64\n",
      "The third quartile of D is 0.75    0.676918\n",
      "Name: D, dtype: float64\n",
      "The third quartile of E is 0.75    22.483888\n",
      "Name: E, dtype: float64\n",
      "The third quartile of F is 0.75    9.0\n",
      "Name: F, dtype: float64\n",
      "The maximum value of C is 9996.0000\n",
      "The maximum value of D is 3.2708\n",
      "The maximum value of E is 54.7065\n",
      "The maximum value of F is 11.0000\n"
     ]
    }
   ],
   "source": [
    "minC = df['C'].min() # calculates the min of all values under column C\n",
    "minD = df['D'].min() # calculates the min of all values under column D\n",
    "minE = df['E'].min() # calculates the min of all values under column E\n",
    "minF = df['F'].min() # calculates the min of all values under column F\n",
    "\n",
    "print(f'The minimum value of C is {minC:.4f}')\n",
    "print(f'The minimum value of D is {minD:.4f}')\n",
    "print(f'The minimum value of E is {minE:.4f}')\n",
    "print(f'The minimum value of F is {minF:.4f}')\n",
    "\n",
    "firstQuartileC = df.C.quantile([0.25]) # calculates the first quartile of all values under column C\n",
    "firstQuartileD = df.D.quantile([0.25]) # calculates the first quartile of all values under column D\n",
    "firstQuartileE = df.E.quantile([0.25]) # calculates the first quartile of all values under column E\n",
    "firstQuartileF = df.F.quantile([0.25]) # calculates the first quartile of all values under column F\n",
    "\n",
    "print(\"The first quartile of C is\", firstQuartileC)\n",
    "print(\"The first quartile of D is\", firstQuartileD)\n",
    "print(\"The first quartile of E is\", firstQuartileE)\n",
    "print(\"The first quartile of F is\", firstQuartileF)\n",
    "\n",
    "medC = df.C.median() # calculates the median of all values under column C\n",
    "medD = df.D.median() # calculates the median of all values under column D\n",
    "medE = df.E.median() # calculates the median of all values under column E\n",
    "medF = df.F.median() # calculates the median of all values under column F\n",
    "\n",
    "print(f'The median of C is {medC:.4f}')\n",
    "print(f'The median of D is {medD:.4f}')\n",
    "print(f'The median of E is {medE:.4f}')\n",
    "print(f'The median of F is {medF:.4f}')\n",
    "\n",
    "thirdQuartileC = df.C.quantile([0.75]) # calculates the third quartile of all values under column C\n",
    "thirdQuartileD = df.D.quantile([0.75]) # calculates the third quartile of all values under column D\n",
    "thirdQuartileE = df.E.quantile([0.75]) # calculates the third quartile of all values under column E\n",
    "thirdQuartileF = df.F.quantile([0.75]) # calculates the third quartile of all values under column F\n",
    "\n",
    "print(\"The third quartile of C is\", thirdQuartileC)\n",
    "print(\"The third quartile of D is\", thirdQuartileD)\n",
    "print(\"The third quartile of E is\", thirdQuartileE)\n",
    "print(\"The third quartile of F is\", thirdQuartileF)\n",
    "\n",
    "maxC = df['C'].max() # calculates the max of all values under column C\n",
    "maxD = df['D'].max() # calculates the max of all values under column D\n",
    "maxE = df['E'].max() # calculates the max of all values under column E\n",
    "maxF = df['F'].max() # calculates the max of all values under column F\n",
    "\n",
    "print(f'The maximum value of C is {maxC:.4f}')\n",
    "print(f'The maximum value of D is {maxD:.4f}')\n",
    "print(f'The maximum value of E is {maxE:.4f}')\n",
    "print(f'The maximum value of F is {maxF:.4f}')"
   ]
  },
  {
   "cell_type": "markdown",
   "metadata": {},
   "source": [
    "1.d.) Compare to the corresponding functions provided by DataFrame"
   ]
  },
  {
   "cell_type": "code",
   "execution_count": null,
   "metadata": {},
   "outputs": [],
   "source": [
    "df.describe()"
   ]
  },
  {
   "cell_type": "markdown",
   "metadata": {},
   "source": [
    "2. [30] (Smoothing) Write functions that use the cut() and qcut() functions provided by DataFrame\n",
    "to smooth data in a given column using the following methods. Apply these function on column F."
   ]
  },
  {
   "cell_type": "markdown",
   "metadata": {},
   "source": [
    "2.a.) Equal-depth binning with bin means for depth k, for example k = 100.\n"
   ]
  },
  {
   "cell_type": "code",
   "execution_count": 1,
   "metadata": {},
   "outputs": [
    {
     "name": "stdout",
     "output_type": "stream",
     "text": [
      "Enter a depth value: 100\n"
     ]
    }
   ],
   "source": [
    "k = int(input(\"Enter a depth value: \"))"
   ]
  },
  {
   "cell_type": "code",
   "execution_count": 9,
   "metadata": {
    "scrolled": true
   },
   "outputs": [],
   "source": [
    "depth = int(len(df.F)/(k))\n",
    "\n",
    "df[\"bin1\"] = pd.qcut(df.F.rank(method='first'), depth)\n",
    "df[\"binMean\"] = df.F.groupby(df['bin1']).mean()\n",
    "\n",
    "df\n",
    "\n",
    "df.to_csv(r'C:\\Users\\samda\\Documents\\Coursework\\UTSA\\CS 5473\\HW1\\binMean.csv')"
   ]
  },
  {
   "cell_type": "markdown",
   "metadata": {},
   "source": [
    "2.b.) Equal-depth binning with bin boundaries for depth k, for example k = 100."
   ]
  },
  {
   "cell_type": "code",
   "execution_count": 11,
   "metadata": {},
   "outputs": [],
   "source": [
    "depth = int(len(df[\"F\"])/(k))\n",
    "\n",
    "df[\"bin2\"] = pd.qcut(df.F.rank(method='first'), depth)\n",
    "df[\"binMin\"] = df.F.groupby(df.bin2).min()\n",
    "df[\"binMax\"] = df.F.groupby(df.bin2).max()\n",
    "\n",
    "df\n",
    "\n",
    "df.to_csv(r'C:\\Users\\samda\\Documents\\Coursework\\UTSA\\CS 5473\\HW1\\binBoundaries.csv')"
   ]
  },
  {
   "cell_type": "markdown",
   "metadata": {},
   "source": [
    "2.c.) Equal-width binning with bin median for 10 bins."
   ]
  },
  {
   "cell_type": "code",
   "execution_count": 12,
   "metadata": {
    "scrolled": true
   },
   "outputs": [],
   "source": [
    "df[\"bin3\"] = pd.cut(df['F'], 10)\n",
    "\n",
    "df.to_csv(r'C:\\Users\\samda\\Documents\\Coursework\\UTSA\\CS 5473\\HW1\\binMedian.csv')"
   ]
  },
  {
   "cell_type": "markdown",
   "metadata": {},
   "source": [
    "3. [30] (Normalization) Write functions to normalize the data in a given column using the\n",
    "following methods. Apply these functions on column C."
   ]
  },
  {
   "cell_type": "markdown",
   "metadata": {},
   "source": [
    "3.a.)  Min-max normalization that transforms the values onto a given range, for example,\n",
    "[−1.0, 1.0]."
   ]
  },
  {
   "cell_type": "code",
   "execution_count": 13,
   "metadata": {},
   "outputs": [
    {
     "name": "stdout",
     "output_type": "stream",
     "text": [
      "Enter a new minimum value for range: -1.0\n"
     ]
    }
   ],
   "source": [
    "newMinA = float(input(\"Enter a new minimum value for range: \"))"
   ]
  },
  {
   "cell_type": "code",
   "execution_count": 14,
   "metadata": {},
   "outputs": [
    {
     "name": "stdout",
     "output_type": "stream",
     "text": [
      "Enter a new maximum value for range: 1.0\n"
     ]
    }
   ],
   "source": [
    "newMaxA = float(input(\"Enter a new maximum value for range: \"))"
   ]
  },
  {
   "cell_type": "code",
   "execution_count": 19,
   "metadata": {},
   "outputs": [],
   "source": [
    "df['Min Max Normalization'] = ((df['C']-minC)/(maxC-minC))*(newMaxA - newMinA)+(newMinA)\n",
    "\n",
    "df.to_csv(r'C:\\Users\\samda\\Documents\\Coursework\\UTSA\\CS 5473\\HW1\\minMax.csv')"
   ]
  },
  {
   "cell_type": "markdown",
   "metadata": {},
   "source": [
    "3.b.) Z-score normalization"
   ]
  },
  {
   "cell_type": "code",
   "execution_count": 20,
   "metadata": {},
   "outputs": [],
   "source": [
    "from scipy import stats\n",
    "\n",
    "df['Z-score Normalization'] = stats.zscore(df['C'])\n",
    "\n",
    "df.to_csv(r'C:\\Users\\samda\\Documents\\Coursework\\UTSA\\CS 5473\\HW1\\Z-score.csv')"
   ]
  },
  {
   "cell_type": "markdown",
   "metadata": {},
   "source": [
    "3.c.) Decimal scaling normalization."
   ]
  },
  {
   "cell_type": "code",
   "execution_count": 21,
   "metadata": {},
   "outputs": [],
   "source": [
    "df['Decimal Scaling Normalization'] = (df['C']/(10**4))\n",
    "\n",
    "df.to_csv(r'C:\\Users\\samda\\Documents\\Coursework\\UTSA\\CS 5473\\HW1\\decimalScaling.csv')"
   ]
  }
 ],
 "metadata": {
  "kernelspec": {
   "display_name": "Python 3",
   "language": "python",
   "name": "python3"
  },
  "language_info": {
   "codemirror_mode": {
    "name": "ipython",
    "version": 3
   },
   "file_extension": ".py",
   "mimetype": "text/x-python",
   "name": "python",
   "nbconvert_exporter": "python",
   "pygments_lexer": "ipython3",
   "version": "3.7.1"
  }
 },
 "nbformat": 4,
 "nbformat_minor": 2
}
