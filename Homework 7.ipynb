{
 "cells": [
  {
   "cell_type": "markdown",
   "metadata": {},
   "source": [
    "# Assignment 7\n",
    "\n",
    "## Sam Dash"
   ]
  },
  {
   "cell_type": "raw",
   "metadata": {},
   "source": [
    "1. [30] The following table contains the outcome of classifying 10 testing tuples using a probabilistic classifier. For each tuple, the actual class (P or N) is given in the second column, and\n",
    "the probability (of class P) returned by the classifier is in the third column."
   ]
  },
  {
   "cell_type": "code",
   "execution_count": 1,
   "metadata": {},
   "outputs": [],
   "source": [
    "import matplotlib.pyplot as plt\n",
    "import pandas as pd\n",
    "import numpy as np\n",
    "import math\n",
    "from scipy import stats\n",
    "from sklearn.model_selection import KFold\n",
    "from sklearn.ensemble import AdaBoostClassifier\n",
    "from sklearn.naive_bayes import GaussianNB"
   ]
  },
  {
   "cell_type": "raw",
   "metadata": {},
   "source": [
    "1.a) [15] For each row of the table, assume that the threshold of probability for predicting\n",
    "class P is the probability in that row (see Example 8.11 on page 375 of the textbook for\n",
    "further description), determine the numbers of true positives (TP), false positives (FP),\n",
    "true negatives (TN), false negatives (FN) the true positive rate (TPR) and false positive\n",
    "rate (FPR) of the entire set of tuples."
   ]
  },
  {
   "cell_type": "raw",
   "metadata": {},
   "source": [
    "Table is in attached document labeled \"Question 1 Table\""
   ]
  },
  {
   "cell_type": "code",
   "execution_count": 2,
   "metadata": {},
   "outputs": [
    {
     "name": "stdout",
     "output_type": "stream",
     "text": [
      "True positive rate for tuple 1 is 0.2\n",
      "False positive rate for tuple 1 is 0.0 \n",
      "\n",
      "True positive rate for tuple 2 is 0.2\n",
      "False positive rate for tuple 2 is 0.2 \n",
      "\n",
      "True positive rate for tuple 3 is 0.4\n",
      "False positive rate for tuple 3 is 0.2 \n",
      "\n",
      "True positive rate for tuple 4 is 0.6\n",
      "False positive rate for tuple 4 is 0.2 \n",
      "\n",
      "True positive rate for tuple 5 is 0.6\n",
      "False positive rate for tuple 5 is 0.4 \n",
      "\n",
      "True positive rate for tuple 6 is 0.8\n",
      "False positive rate for tuple 6 is 0.4 \n",
      "\n",
      "True positive rate for tuple 7 is 0.8\n",
      "False positive rate for tuple 7 is 0.6 \n",
      "\n",
      "True positive rate for tuple 8 is 0.8\n",
      "False positive rate for tuple 8 is 0.8 \n",
      "\n",
      "True positive rate for tuple 9 is 0.8\n",
      "False positive rate for tuple 9 is 1.0 \n",
      "\n",
      "True positive rate for tuple 10 is 0.5\n",
      "False positive rate for tuple 10 is 0.5\n"
     ]
    }
   ],
   "source": [
    "tuple1TP = 1\n",
    "tuple1FP = 0\n",
    "tuple1TN = 5\n",
    "tuple1FN = 4\n",
    "tuple2TP = 1\n",
    "tuple2FP = 1\n",
    "tuple2TN = 4\n",
    "tuple2FN = 4\n",
    "tuple3TP = 2\n",
    "tuple3FP = 1\n",
    "tuple3TN = 4\n",
    "tuple3FN = 3\n",
    "tuple4TP = 3\n",
    "tuple4FP = 1\n",
    "tuple4TN = 4\n",
    "tuple4FN = 2\n",
    "tuple5TP = 3\n",
    "tuple5FP = 2\n",
    "tuple5TN = 3\n",
    "tuple5FN = 2\n",
    "tuple6TP = 4\n",
    "tuple6FP = 2\n",
    "tuple6TN = 3\n",
    "tuple6FN = 1\n",
    "tuple7TP = 4\n",
    "tuple7FP = 3\n",
    "tuple7TN = 2\n",
    "tuple7FN = 1\n",
    "tuple8TP = 4\n",
    "tuple8FP = 4\n",
    "tuple8TN = 1\n",
    "tuple8FN = 1\n",
    "tuple9TP = 4\n",
    "tuple9FP = 5\n",
    "tuple9TN = 0\n",
    "tuple9FN = 1\n",
    "tuple10TP = 5\n",
    "tuple10FP = 5\n",
    "tuple10TN = 5\n",
    "tuple10FN = 5\n",
    "\n",
    "def TPR(tp,fn):\n",
    "    return (tp/(tp+fn))\n",
    "\n",
    "def FPR(fp,tn):\n",
    "    return (fp/(fp+tn))\n",
    "\n",
    "TPR1 = TPR(tuple1TP,tuple1FN)\n",
    "FPR1 = FPR(tuple1FP,tuple1TN)\n",
    "print(\"True positive rate for tuple 1 is\", TPR1)\n",
    "print(\"False positive rate for tuple 1 is\", FPR1, \"\\n\")\n",
    "\n",
    "TPR2 = TPR(tuple2TP,tuple2FN)\n",
    "FPR2 = FPR(tuple2FP,tuple2TN)\n",
    "print(\"True positive rate for tuple 2 is\", TPR2)\n",
    "print(\"False positive rate for tuple 2 is\", FPR2, \"\\n\")\n",
    "\n",
    "TPR3 = TPR(tuple3TP,tuple3FN)\n",
    "FPR3 = FPR(tuple3FP,tuple3TN)\n",
    "print(\"True positive rate for tuple 3 is\", TPR3)\n",
    "print(\"False positive rate for tuple 3 is\", FPR3, \"\\n\")\n",
    "\n",
    "TPR4 = TPR(tuple4TP,tuple4FN)\n",
    "FPR4 = FPR(tuple4FP,tuple4TN)\n",
    "print(\"True positive rate for tuple 4 is\", TPR4)\n",
    "print(\"False positive rate for tuple 4 is\", FPR4, \"\\n\")\n",
    "\n",
    "TPR5 = TPR(tuple5TP,tuple5FN)\n",
    "FPR5 = FPR(tuple5FP,tuple5TN)\n",
    "print(\"True positive rate for tuple 5 is\", TPR5)\n",
    "print(\"False positive rate for tuple 5 is\", FPR5, \"\\n\")\n",
    "\n",
    "TPR6 = TPR(tuple6TP,tuple6FN)\n",
    "FPR6 = FPR(tuple6FP,tuple6TN)\n",
    "print(\"True positive rate for tuple 6 is\", TPR6)\n",
    "print(\"False positive rate for tuple 6 is\", FPR6, \"\\n\")\n",
    "\n",
    "TPR7 = TPR(tuple7TP,tuple7FN)\n",
    "FPR7 = FPR(tuple7FP,tuple7TN)\n",
    "print(\"True positive rate for tuple 7 is\", TPR7)\n",
    "print(\"False positive rate for tuple 7 is\", FPR7, \"\\n\")\n",
    "\n",
    "TPR8 = TPR(tuple8TP,tuple8FN)\n",
    "FPR8 = FPR(tuple8FP,tuple8TN)\n",
    "print(\"True positive rate for tuple 8 is\", TPR8)\n",
    "print(\"False positive rate for tuple 8 is\", FPR8, \"\\n\")\n",
    "\n",
    "TPR9 = TPR(tuple9TP,tuple9FN)\n",
    "FPR9 = FPR(tuple9FP,tuple9TN)\n",
    "print(\"True positive rate for tuple 9 is\", TPR9)\n",
    "print(\"False positive rate for tuple 9 is\", FPR9, \"\\n\")\n",
    "\n",
    "TPR10 = TPR(tuple10TP,tuple10FN)\n",
    "FPR10 = FPR(tuple10FP,tuple10TN)\n",
    "print(\"True positive rate for tuple 10 is\", TPR10)\n",
    "print(\"False positive rate for tuple 10 is\", FPR10)"
   ]
  },
  {
   "cell_type": "raw",
   "metadata": {},
   "source": [
    "1.b) [15] Plot the ROC curve for the data (by hand drawing or using a Python notebook)."
   ]
  },
  {
   "cell_type": "code",
   "execution_count": 3,
   "metadata": {},
   "outputs": [
    {
     "data": {
      "image/png": "[encoded data removed]",
      "text/plain": [
       "<Figure size 432x288 with 1 Axes>"
      ]
     },
     "metadata": {
      "needs_background": "light"
     },
     "output_type": "display_data"
    }
   ],
   "source": [
    "x = [FPR1, FPR2, FPR3, FPR4, FPR5, FPR6, FPR7, FPR8, FPR9, FPR10]\n",
    "y = [TPR1, TPR2, TPR3, TPR4, TPR5, TPR6, TPR7, TPR8, TPR9, TPR10]\n",
    "\n",
    "plt.plot(x,y)\n",
    "plt.show() "
   ]
  },
  {
   "cell_type": "raw",
   "metadata": {},
   "source": [
    "2. [30] Suppose we have two predictive models, M1 and M2 and run 10 rounds of 10-fold\n",
    "cross-validation test using the two models.\n",
    "Perform a t-test at a significance level of 0.001 for each case to determine if one model is\n",
    "significantly better than the other. You can either write a program or use a t-distribution table\n",
    "(such as the one attached to this assignment) to do this test."
   ]
  },
  {
   "cell_type": "raw",
   "metadata": {},
   "source": [
    "2.a) [15] In each round, a training set and a testing set are determined based on the 10-fold\n",
    "cross-validation method, and then the same training set is used to build the two models,\n",
    "and the same testing set is used to obtain errors for the two models."
   ]
  },
  {
   "cell_type": "code",
   "execution_count": 4,
   "metadata": {},
   "outputs": [
    {
     "data": {
      "text/plain": [
       "Ttest_relResult(statistic=2.344421419296965, pvalue=0.043702633095373596)"
      ]
     },
     "execution_count": 4,
     "metadata": {},
     "output_type": "execute_result"
    }
   ],
   "source": [
    "M1 = [30.5, 32.2, 20.7, 20.6, 31.0, 41.0, 27.7, 26.0, 21.5, 26.0]\n",
    "M2 = [22.4, 14.5, 22.4, 19.6, 20.7, 20.4, 22.1, 19.4, 16.2, 35.0]\n",
    "\n",
    "stats.ttest_rel(M1, M2)"
   ]
  },
  {
   "cell_type": "raw",
   "metadata": {},
   "source": [
    "The value of df = 18 for an upper-tail probability of .001 is 3.611. Because 2.344421419296965 < 3.611, we cannot conclusively establish that one model is better than the other with the same testing set."
   ]
  },
  {
   "cell_type": "raw",
   "metadata": {},
   "source": [
    "2.b) [15] The models are built and tested independently. A ten-round 10-fold method is first applied to M1 to obtain the first row in the table. A second ten-round 10-fold method is then applied to M2 to obtain the second row in the table."
   ]
  },
  {
   "cell_type": "code",
   "execution_count": 5,
   "metadata": {},
   "outputs": [
    {
     "data": {
      "text/plain": [
       "Ttest_indResult(statistic=2.437567141225827, pvalue=0.02538670824824204)"
      ]
     },
     "execution_count": 5,
     "metadata": {},
     "output_type": "execute_result"
    }
   ],
   "source": [
    "stats.ttest_ind(M1, M2)"
   ]
  },
  {
   "cell_type": "raw",
   "metadata": {},
   "source": [
    "The value of df = 18 for an upper-tail probability of .001 is 3.611. Because 2.437567141225827 < 3.611, we cannot conclusively establish that one model is better than the other with independent testing."
   ]
  },
  {
   "cell_type": "raw",
   "metadata": {},
   "source": [
    "3. [40] Write a Python Jupyter notebook that performs a synchronized ten rounds 10-fold cross\n",
    "validation tests to obtain the classification accuracy scores for the Naive Bayesian and the\n",
    "AdaBoost classifiers learned from the dataset given in hwk07.csv, in which column H is the\n",
    "class label. Specifically, in each round, the same training set should be used to train the\n",
    "classifiers, and the same testing set should be used to measure the classification accuracy\n",
    "scores. Your program should use functions from the SciKit-Learn to create random folds, to\n",
    "learn classifiers, to test the classifiers and and to calculate classification accuracy scores."
   ]
  },
  {
   "cell_type": "code",
   "execution_count": 6,
   "metadata": {},
   "outputs": [
    {
     "name": "stdout",
     "output_type": "stream",
     "text": [
      "Fold 1 AdaBoostClassifier score: 0.9\n",
      "Fold 1 NaiveBayesClassifier score: 0.88\n",
      "\n",
      "Fold 2 AdaBoostClassifier score: 0.72\n",
      "Fold 2 NaiveBayesClassifier score: 0.94\n",
      "\n",
      "Fold 3 AdaBoostClassifier score: 0.92\n",
      "Fold 3 NaiveBayesClassifier score: 0.92\n",
      "\n",
      "Fold 4 AdaBoostClassifier score: 0.76\n",
      "Fold 4 NaiveBayesClassifier score: 0.94\n",
      "\n",
      "Fold 5 AdaBoostClassifier score: 0.76\n",
      "Fold 5 NaiveBayesClassifier score: 0.9\n",
      "\n",
      "Fold 6 AdaBoostClassifier score: 0.88\n",
      "Fold 6 NaiveBayesClassifier score: 0.88\n",
      "\n",
      "Fold 7 AdaBoostClassifier score: 0.84\n",
      "Fold 7 NaiveBayesClassifier score: 1.0\n",
      "\n",
      "Fold 8 AdaBoostClassifier score: 0.88\n",
      "Fold 8 NaiveBayesClassifier score: 0.96\n",
      "\n",
      "Fold 9 AdaBoostClassifier score: 0.54\n",
      "Fold 9 NaiveBayesClassifier score: 0.94\n",
      "\n",
      "Fold 10 AdaBoostClassifier score: 0.82\n",
      "Fold 10 NaiveBayesClassifier score: 0.92\n",
      "\n"
     ]
    }
   ],
   "source": [
    "df = pd.read_csv(r'hwk07.csv', header=0, sep=',')\n",
    "\n",
    "X = df.iloc[:,:-1]\n",
    "y = df.iloc[:,-1]\n",
    "fold = KFold(n_splits=10)\n",
    "i=1\n",
    "for trnIndex, tstIndex in fold.split(X):\n",
    "    X_train, X_test = X.iloc[trnIndex],X.iloc[tstIndex]\n",
    "    y_train, y_test = y.iloc[trnIndex],y.iloc[tstIndex]\n",
    "    abc = AdaBoostClassifier()\n",
    "    abc.fit(X_train,y_train)\n",
    "\n",
    "    print(\"Fold\",i,\"AdaBoostClassifier score:\",abc.score(X_test,y_test))\n",
    "\n",
    "    gnb = GaussianNB()\n",
    "    gnb.fit(X_train, y_train)\n",
    "\n",
    "    print(\"Fold\",i,\"NaiveBayesClassifier score:\",gnb.score(X_test,y_test))\n",
    "    print(\"\")\n",
    "    i +=1"
   ]
  }
 ],
 "metadata": {
  "kernelspec": {
   "display_name": "Python 3",
   "language": "python",
   "name": "python3"
  },
  "language_info": {
   "codemirror_mode": {
    "name": "ipython",
    "version": 3
   },
   "file_extension": ".py",
   "mimetype": "text/x-python",
   "name": "python",
   "nbconvert_exporter": "python",
   "pygments_lexer": "ipython3",
   "version": "3.7.1"
  }
 },
 "nbformat": 4,
 "nbformat_minor": 2
}
