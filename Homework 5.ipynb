{
 "cells": [
  {
   "cell_type": "raw",
   "metadata": {},
   "source": [
    "1. [50] Explain how the basic decision tree algorithm can be extended to incorporate the ranges\n",
    "(for Age and Salary) and the counts (in the count column) into the calculation of the impurity\n",
    "measures. Then, use the extended algorithm by hand to find the best split of the given data\n",
    "using the following impurity measures. You only need to show how to find the best split at\n",
    "the root node of the decision tree. You need to show the details of the calculations for at\n",
    "least one attribute, and show the results for the rest of attributes. You may want to write a\n",
    "program to perform the calculations. If you do so, also hand in your program source code."
   ]
  },
  {
   "cell_type": "raw",
   "metadata": {},
   "source": [
    "Decision tree is in attached Word document named \"HW5 Question 1 Decision Tree\""
   ]
  },
  {
   "cell_type": "raw",
   "metadata": {},
   "source": [
    "(a) information gain"
   ]
  },
  {
   "cell_type": "code",
   "execution_count": 1,
   "metadata": {},
   "outputs": [
    {
     "name": "stdout",
     "output_type": "stream",
     "text": [
      "Info gain for status is 0.899030771238222\n",
      "info gain for salary is: 0.5375181264158646\n",
      "info gain for age is: 0.4247351209783661\n",
      "info gain for department is: 0.048606785991983426\n"
     ]
    }
   ],
   "source": [
    "import math\n",
    "\n",
    "def infoGain(a,b): # a is juniors, b is seniors\n",
    "    if a == 0:\n",
    "        info = -(b/(a+b))*math.log((b/(a+b)), 2)\n",
    "    elif b == 0:\n",
    "        info = -(a/(a+b))*math.log((a/(a+b)), 2)\n",
    "    else:\n",
    "        info = -(a/(a+b))*math.log((a/(a+b)), 2) - (b/(a+b))*math.log((b/(a+b)), 2)\n",
    "    return info\n",
    "\n",
    "infoGainD = infoGain(113,52) #113 junior tuples, 52 senior tuples\n",
    "print(\"Info gain for status is\",infoGainD)\n",
    "\n",
    "infoGainSalary = (((46/165)*infoGain(46,0)) + ((40/165)*infoGain(40,0)) + ((4/165)*infoGain(0,4)) + ((4/165)*infoGain(4,0)) + ((63/165)*infoGain(23,40)) + ((8/165)*infoGain(0,8)))\n",
    "gainSalary = infoGainD - infoGainSalary\n",
    "print(\"info gain for salary is:\", gainSalary)\n",
    "\n",
    "infoGainAge = (((20/165)*infoGain(20,0)) + ((49/165)*infoGain(49,0)) + ((79/165)*infoGain(44,35)) + ((10/165)*infoGain(0,10)) + ((3/165)*infoGain(0,3)) + ((4/165)*infoGain(0,4)))\n",
    "gainAge = infoGainD - infoGainAge\n",
    "print(\"info gain for age is:\", gainAge)\n",
    "\n",
    "infoGainDepartment = (((110/165)*infoGain(80,30)) + ((31/165)*infoGain(23,8)) + ((14/165)*infoGain(4,10)) + ((10/165)*infoGain(6,4)))\n",
    "gainDepartment = infoGainD - infoGainDepartment\n",
    "print(\"info gain for department is:\", gainDepartment)"
   ]
  },
  {
   "cell_type": "raw",
   "metadata": {},
   "source": [
    "(b) gain ratio"
   ]
  },
  {
   "cell_type": "code",
   "execution_count": 2,
   "metadata": {},
   "outputs": [
    {
     "name": "stdout",
     "output_type": "stream",
     "text": [
      "gain ratio for salary is: -1.4868584380499168\n",
      "gain ratio for age is: -0.8955070971991063\n",
      "gain ratio for department is: -0.057155944370394764\n"
     ]
    }
   ],
   "source": [
    "splitInfoSalary = (-((46/165)*infoGain(46,0)) - ((40/165)*infoGain(40,0)) - ((4/165)*infoGain(0,4)) - ((4/165)*infoGain(4,0)) - ((63/165)*infoGain(23,40)) - ((8/165)*infoGain(0,8)))\n",
    "gainRatioSalary = gainSalary/splitInfoSalary\n",
    "print(\"gain ratio for salary is:\", gainRatioSalary)\n",
    "\n",
    "splitInfoAge = (-((20/165)*infoGain(20,0)) - ((49/165)*infoGain(49,0)) - ((79/165)*infoGain(44,35)) - ((10/165)*infoGain(0,10)) - ((3/165)*infoGain(0,3)) - ((4/165)*infoGain(0,4)))\n",
    "gainRatioAge = gainAge/splitInfoAge\n",
    "print(\"gain ratio for age is:\", gainRatioAge)\n",
    "\n",
    "splitInfoDepartment = (-((110/165)*infoGain(80,30)) - ((31/165)*infoGain(23,8)) - ((14/165)*infoGain(4,10)) - ((10/165)*infoGain(6,4)))\n",
    "gainRatioDepartment = gainDepartment/splitInfoDepartment\n",
    "print(\"gain ratio for department is:\", gainRatioDepartment)"
   ]
  },
  {
   "cell_type": "raw",
   "metadata": {},
   "source": [
    "(c) gini index"
   ]
  },
  {
   "cell_type": "code",
   "execution_count": 3,
   "metadata": {
    "scrolled": true
   },
   "outputs": [
    {
     "name": "stdout",
     "output_type": "stream",
     "text": [
      "The gini index of income ranges 26K to 30K and 31K to 35K is: 0.0\n",
      "The gini index of income ranges 36K to 40K and 41K to 45K is: 0.0\n",
      "The gini index of income ranges 46K to 50K and 66K to 70K is: 0.17700817700817703\n",
      "Any gini index comparison that does not involve the 46K to 50K range will invariably return 0.0\n",
      "The gini index of age ranges 21 to 25 and 26 to 30 is: 0.0\n",
      "The gini index of age ranges 31 to 35 and 36 to 40 is: 0.23628691983122366\n",
      "The gini index of age ranges 41 to 45 and 46 to 50 is: 0.0\n",
      "Any gini index comparison that does not involve the 31 to 35 range will invariably return 0.0\n",
      "The gini index of the sales and systems departments is: 0.3364080689593886\n",
      "The gini index of the marketing and secretary departments is: 0.06372294372294372\n",
      "The gini index of the sales and secretary departments is: 0.2935537190082645\n",
      "The gini index of the systems and marketing departments is: 0.10657729367406785\n",
      "The gini index of the sales and marketing departments is: 0.29909484454939\n",
      "The gini index of the systems and secretary departments is: 0.1010361681329423\n"
     ]
    }
   ],
   "source": [
    "def gini(a,b):\n",
    "    g = 1 - ((a/(a+b))**2) - ((b/(a+b))**2)\n",
    "    return g\n",
    "\n",
    "giniSalary26To35 = ((46/165)*gini(46,0)) + ((40/165)*gini(40,0))\n",
    "print(\"The gini index of income ranges 26K to 30K and 31K to 35K is:\", giniSalary26To35)\n",
    "\n",
    "giniSalary36To45 = ((4/165)*gini(0,4)) + ((4/165)*gini(4,0))\n",
    "print(\"The gini index of income ranges 36K to 40K and 41K to 45K is:\", giniSalary36To45)\n",
    "\n",
    "giniSalary46To70 = ((63/165)*gini(23,40)) + ((8/165)*gini(0,8))\n",
    "print(\"The gini index of income ranges 46K to 50K and 66K to 70K is:\", giniSalary46To70)\n",
    "print(\"Any gini index comparison that does not involve the 46K to 50K range will invariably return 0.0\")\n",
    "\n",
    "giniAge21To30 = ((46/165)*gini(46,0)) + ((40/165)*gini(40,0))\n",
    "print(\"The gini index of age ranges 21 to 25 and 26 to 30 is:\", giniAge21To30)\n",
    "\n",
    "giniAge31To40 = ((79/165)*gini(44,35)) + ((10/165)*gini(0,10))\n",
    "print(\"The gini index of age ranges 31 to 35 and 36 to 40 is:\", giniAge31To40)\n",
    "\n",
    "giniAge41To50 = ((3/165)*gini(0,3)) + ((4/165)*gini(0,4))\n",
    "print(\"The gini index of age ranges 41 to 45 and 46 to 50 is:\", giniAge41To50)\n",
    "print(\"Any gini index comparison that does not involve the 31 to 35 range will invariably return 0.0\")\n",
    "\n",
    "giniDepartmentSalesSystems = ((110/165)*gini(80,30)) + ((31/165)*gini(23,8))\n",
    "print(\"The gini index of the sales and systems departments is:\", giniDepartmentSalesSystems)\n",
    "\n",
    "giniDepartmentMarketingSecretary = ((14/165)*gini(4,10)) + ((10/165)*gini(6,4))\n",
    "print(\"The gini index of the marketing and secretary departments is:\", giniDepartmentMarketingSecretary)\n",
    "\n",
    "giniDepartmentSalesSecretary = ((110/165)*gini(80,30)) + ((10/165)*gini(6,4))\n",
    "print(\"The gini index of the sales and secretary departments is:\", giniDepartmentSalesSecretary)\n",
    "\n",
    "giniDepartmentSystemsMarketing = ((31/165)*gini(23,8)) + ((14/165)*gini(4,10))\n",
    "print(\"The gini index of the systems and marketing departments is:\", giniDepartmentSystemsMarketing)\n",
    "\n",
    "giniDepartmentSalesMarketing = ((110/165)*gini(80,30)) + ((14/165)*gini(4,10))\n",
    "print(\"The gini index of the sales and marketing departments is:\", giniDepartmentSalesMarketing)\n",
    "\n",
    "giniDepartmentSystemsSecretary = ((31/165)*gini(23,8)) + ((10/165)*gini(6,4))\n",
    "print(\"The gini index of the systems and secretary departments is:\", giniDepartmentSystemsSecretary)"
   ]
  },
  {
   "cell_type": "raw",
   "metadata": {},
   "source": [
    "2. [50] Extend the Naive Bayes classifier algorithm so that it can also incorporate the ranges\n",
    "and counts in calculation of the probabilities."
   ]
  },
  {
   "cell_type": "raw",
   "metadata": {},
   "source": [
    "(a) Show how the extended algorithm would calculate the prior probabilities and the conditional probabilities P(Ak | C) using the data table as the training data"
   ]
  },
  {
   "cell_type": "raw",
   "metadata": {},
   "source": [
    "Conditional probabilities are calculated in the format of posterior = (likelihood*prior)/evidence. That is, the probability that X is observed given that H holds multiplied by the probability that H holds, which is then divided by the probability that X is observed. The extended algorithm, in this case, would need to include the probabilities that the salary and age ranges are observed as being a junior or senior holds."
   ]
  },
  {
   "cell_type": "raw",
   "metadata": {},
   "source": [
    "(b) Show how the extended algorithm would determine the status of the following data\n",
    "tuple:\n",
    "    t =< department : systems, status :?, age : 28, salary : 50K >\n",
    "Again, you need to show the details of the calculation for some of the probabilities, and for\n",
    "tuple t."
   ]
  },
  {
   "cell_type": "code",
   "execution_count": 4,
   "metadata": {},
   "outputs": [
    {
     "name": "stdout",
     "output_type": "stream",
     "text": [
      "The probability of being a junior is: 0.6848484848484848\n",
      "The probability of being a senior is: 0.3151515151515151\n",
      "The probability of being a junior in the systems department is: 0.1393939393939394\n",
      "The probability of being a junior in the 26 to 30 age range is: 0.296969696969697\n",
      "The probability of being a junior in the 46K to 50K salary range is: 0.1393939393939394\n",
      "The probability of being a senior in systems department is: 0.048484848484848485\n",
      "The probability of being a senior in the 26 to 30 age range is: 0.0\n",
      "The probability of being a senior in the 46K to 50K salary range is: 0.24242424242424243\n",
      "The probability that t is a junior is: 0.003951795102709203\n",
      "The probability that t is a senior is: 0.0\n",
      "t belongs to the junior status class\n"
     ]
    }
   ],
   "source": [
    "probJunior = 113/165 # probability of being a junior\n",
    "print(\"The probability of being a junior is:\", probJunior)\n",
    "probSenior = 52/165 # probability of being a senior\n",
    "print(\"The probability of being a senior is:\", probSenior)\n",
    "\n",
    "probSystemsJunior = 23/165 # probability of being a junior in systems department\n",
    "print(\"The probability of being a junior in the systems department is:\", probSystemsJunior)\n",
    "prob28Junior = 49/165 # probability of being a junior in the 26 to 30 age range\n",
    "print(\"The probability of being a junior in the 26 to 30 age range is:\", prob28Junior)\n",
    "prob50KJunior = 23/165 # probability of being a junior in the 46K to 50K salary range\n",
    "print(\"The probability of being a junior in the 46K to 50K salary range is:\", prob50KJunior)\n",
    "\n",
    "probSystemsSenior = 8/165 # probability of being a senior in systems department\n",
    "print(\"The probability of being a senior in systems department is:\", probSystemsSenior)\n",
    "prob28Senior = 0/165 # probability of being a senior in the 26 to 30 age range\n",
    "print(\"The probability of being a senior in the 26 to 30 age range is:\", prob28Senior)\n",
    "prob50KSenior = 40/165 # probability of being a senior in the 46K to 50K salary range\n",
    "print(\"The probability of being a senior in the 46K to 50K salary range is:\", prob50KSenior)\n",
    "\n",
    "probOverallJunior = (probSystemsJunior * prob28Junior * prob50KJunior) * probJunior\n",
    "print(\"The probability that t is a junior is:\", probOverallJunior)\n",
    "probOverallSenior = (probSystemsSenior * prob28Senior * prob50KSenior) * probSenior\n",
    "print(\"The probability that t is a senior is:\", probOverallSenior)\n",
    "\n",
    "if probOverallJunior > probOverallSenior:\n",
    "    print(\"t belongs to the junior status class\")\n",
    "else:\n",
    "    print(\"t belongs to the senior status class\")"
   ]
  }
 ],
 "metadata": {
  "kernelspec": {
   "display_name": "Python 3",
   "language": "python",
   "name": "python3"
  },
  "language_info": {
   "codemirror_mode": {
    "name": "ipython",
    "version": 3
   },
   "file_extension": ".py",
   "mimetype": "text/x-python",
   "name": "python",
   "nbconvert_exporter": "python",
   "pygments_lexer": "ipython3",
   "version": "3.7.1"
  }
 },
 "nbformat": 4,
 "nbformat_minor": 2
}
